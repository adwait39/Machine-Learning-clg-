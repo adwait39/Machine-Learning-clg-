{
 "cells": [
  {
   "cell_type": "code",
   "execution_count": 10,
   "id": "0c180666-61d5-4b84-b4df-acaf190fcd16",
   "metadata": {},
   "outputs": [],
   "source": [
    "from bs4 import BeautifulSoup\n",
    "import pandas\n",
    "import requests"
   ]
  },
  {
   "cell_type": "code",
   "execution_count": 11,
   "id": "5e15771c-c9ec-496d-9f80-9b157be0416f",
   "metadata": {},
   "outputs": [],
   "source": [
    "link = \"https://www.flipkart.com/apple-iphone-14-blue-128-gb/p/itmdb77f40da6b6d\""
   ]
  },
  {
   "cell_type": "code",
   "execution_count": 12,
   "id": "68992c83-aeb8-4a49-b6cd-8e46ef719de3",
   "metadata": {},
   "outputs": [],
   "source": [
    "headers = ({'User-Agent':'Mozilla/5.0 (Windows NT 10.0; Win64; x64) AppleWebKit/537.36 (KHTML, like Gecko) Chrome/124.0.0.0 Safari/537.36'})"
   ]
  },
  {
   "cell_type": "code",
   "execution_count": 13,
   "id": "54710da6-7b56-4fea-a12c-d27ea7ec296f",
   "metadata": {},
   "outputs": [],
   "source": [
    "req = requests.get(link,headers = headers)"
   ]
  },
  {
   "cell_type": "code",
   "execution_count": 14,
   "id": "61ae9335-f5f8-451d-a166-6e1fa52c4001",
   "metadata": {},
   "outputs": [
    {
     "data": {
      "text/plain": [
       "<Response [500]>"
      ]
     },
     "execution_count": 14,
     "metadata": {},
     "output_type": "execute_result"
    }
   ],
   "source": [
    "req"
   ]
  },
  {
   "cell_type": "code",
   "execution_count": 15,
   "id": "67f52ac2-9813-41f2-ad32-d3ea5de0ac82",
   "metadata": {},
   "outputs": [],
   "source": [
    "soup = bs4.BeautifulSoup(req.text)"
   ]
  },
  {
   "cell_type": "code",
   "execution_count": 16,
   "id": "07abfa0e-5ae2-4312-9f63-ff6135b8b26f",
   "metadata": {},
   "outputs": [],
   "source": [
    "custname = soup.find_all('p',{'class':'_2NsDsF AwS1CA'})"
   ]
  },
  {
   "cell_type": "code",
   "execution_count": 17,
   "id": "7646549c-4b61-4a09-953e-fe7ab5395edf",
   "metadata": {},
   "outputs": [
    {
     "data": {
      "text/plain": [
       "[]"
      ]
     },
     "execution_count": 17,
     "metadata": {},
     "output_type": "execute_result"
    }
   ],
   "source": [
    "custname"
   ]
  },
  {
   "cell_type": "code",
   "execution_count": null,
   "id": "0195a664-158f-4212-9911-9ed889c5f0d2",
   "metadata": {},
   "outputs": [],
   "source": []
  }
 ],
 "metadata": {
  "kernelspec": {
   "display_name": "Python 3 (ipykernel)",
   "language": "python",
   "name": "python3"
  },
  "language_info": {
   "codemirror_mode": {
    "name": "ipython",
    "version": 3
   },
   "file_extension": ".py",
   "mimetype": "text/x-python",
   "name": "python",
   "nbconvert_exporter": "python",
   "pygments_lexer": "ipython3",
   "version": "3.11.4"
  }
 },
 "nbformat": 4,
 "nbformat_minor": 5
}
