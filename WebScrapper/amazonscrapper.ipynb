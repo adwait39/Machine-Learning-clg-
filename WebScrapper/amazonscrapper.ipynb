{
 "cells": [
  {
   "cell_type": "code",
   "execution_count": 1,
   "metadata": {},
   "outputs": [],
   "source": [
    "import requests\n",
    "import bs4"
   ]
  },
  {
   "cell_type": "code",
   "execution_count": 3,
   "metadata": {},
   "outputs": [],
   "source": [
    "request=requests.get(\"https://www.flipkart.com/apple-iphone-14-blue-128-gb/p/itmdb77f40da6b6d\")"
   ]
  },
  {
   "cell_type": "code",
   "execution_count": 6,
   "metadata": {},
   "outputs": [],
   "source": [
    "soup=bs4.BeautifulSoup(request.text)"
   ]
  },
  {
   "cell_type": "code",
   "execution_count": 8,
   "metadata": {},
   "outputs": [
    {
     "name": "stdout",
     "output_type": "stream",
     "text": [
      "Flipkart Customer\n",
      "\n",
      "Flipkart Customer\n",
      "\n",
      "Rahul Prasad \n",
      "\n",
      "Avi Nash\n",
      "\n",
      "Tara singh mehra\n",
      "\n",
      "Ajay Kumar\n",
      "\n",
      "Vipul Rai\n",
      "\n",
      "Waqar ahmed\n",
      "\n",
      "Sanket  Hange \n",
      "\n",
      "Shivam  kumar\n",
      "\n"
     ]
    }
   ],
   "source": [
    "custname=soup.find_all(\"p\",{\"class\":\"_2NsDsF AwS1CA\"})\n",
    "for name in custname:\n",
    "    print(name.get_text()+\"\\n\")"
   ]
  },
  {
   "cell_type": "code",
   "execution_count": 10,
   "metadata": {},
   "outputs": [
    {
     "name": "stdout",
     "output_type": "stream",
     "text": [
      "5\n",
      "\n",
      "5\n",
      "\n",
      "5\n",
      "\n",
      "5\n",
      "\n",
      "5\n",
      "\n",
      "5\n",
      "\n",
      "5\n",
      "\n",
      "5\n",
      "\n",
      "5\n",
      "\n",
      "5\n",
      "\n"
     ]
    }
   ],
   "source": [
    "rating=soup.find_all(\"div\",{'class':'XQDdHH Ga3i8K'})\n",
    "for ratings in rating:\n",
    "    print(ratings.get_text()+\"\\n\")"
   ]
  },
  {
   "cell_type": "code",
   "execution_count": 13,
   "metadata": {},
   "outputs": [
    {
     "name": "stdout",
     "output_type": "stream",
     "text": [
      "Awesome \n",
      "\n",
      "Great product \n",
      "\n",
      "Fabulous! \n",
      "\n",
      "Just wow! \n",
      "\n",
      "Great product \n",
      "\n",
      "Excellent \n",
      "\n",
      "Awesome \n",
      "\n",
      "Best in the market! \n",
      "\n",
      "Must buy! \n",
      "\n",
      "Terrific purchase \n",
      "\n"
     ]
    }
   ],
   "source": [
    "review_title=soup.find_all(\"p\",{\"class\":\"z9E0IG\"})\n",
    "for title in review_title:\n",
    "    print(title.get_text(),\"\\n\")"
   ]
  },
  {
   "cell_type": "code",
   "execution_count": 14,
   "metadata": {},
   "outputs": [
    {
     "name": "stdout",
     "output_type": "stream",
     "text": [
      "Love the camera💖🥰READ MORE \n",
      "\n",
      "Damn such a great phone. Camera is really good, battery lasts long enough, super smooth even though its just 60 hz XDR display. Videos with action mode on are insanely stable and crisp.The night mode can take some really good shots jn low light conditions .The whole apple environment itself is so seamless. I shifted from android to iPhone and it barely took any time since I had iPad and a mac already. With a just a few clicks the phone was ready to go.READ MORE \n",
      "\n",
      "Best smart phone under this price range compare to other phones in 2023 if you see overall build quality, performance and Camera with autofocus and video action mode are awesome50% extra RAM compared to iPhone 13 and other more features. Best time to upgrade to iPhone 14 . I am so happy See Low light photos are amazing..READ MORE \n",
      "\n",
      "GoodREAD MORE \n",
      "\n",
      "Nice camera but battery drain fast specially on video recordingREAD MORE \n",
      "\n",
      "Just amazing!READ MORE \n",
      "\n",
      "Reasons to get it over regular 13- 50 percent extra ram- Better camera sensors- Cinematic mode at 4k 30 fps (13 could only do     1080p 30fps)- Action mode for super stabilised videos- Better low light photos thanks to photonic engine- Better battery life - Extra gpu core for high graphics performance- New improved modem for fast and efficient mobile connectivity - Dual ambient light sensors - Better camera flash- Crash detection - Satellite connectivity (though currently not in I...READ MORE \n",
      "\n",
      "Amazing picture quality, awesome design, mind blowing display and fabulous performance and specially very handy phoneREAD MORE \n",
      "\n",
      "The best camera best design !!1st iphone 14 !!i tried all  conditions light photo the quality is best i was impressed with device battery backup is good perform is very impressive 🔥READ MORE \n",
      "\n",
      "Thanku filipkart best phone in the world ❤️READ MORE \n",
      "\n"
     ]
    }
   ],
   "source": [
    "review=soup.find_all(\"div\",{\"class\":\"ZmyHeo\"})\n",
    "for reviews in review:\n",
    "    print(reviews.get_text(),\"\\n\")"
   ]
  },
  {
   "cell_type": "code",
   "execution_count": 15,
   "metadata": {},
   "outputs": [
    {
     "name": "stderr",
     "output_type": "stream",
     "text": [
      "C:\\Users\\Atharva\\AppData\\Local\\Temp\\ipykernel_15616\\2184094257.py:1: DeprecationWarning: \n",
      "Pyarrow will become a required dependency of pandas in the next major release of pandas (pandas 3.0),\n",
      "(to allow more performant data types, such as the Arrow string type, and better interoperability with other libraries)\n",
      "but was not found to be installed on your system.\n",
      "If this would cause problems for you,\n",
      "please provide us feedback at https://github.com/pandas-dev/pandas/issues/54466\n",
      "        \n",
      "  import pandas as pd\n"
     ]
    }
   ],
   "source": [
    "import pandas as pd\n",
    "df=pd.DataFrame()"
   ]
  },
  {
   "cell_type": "code",
   "execution_count": 41,
   "metadata": {},
   "outputs": [],
   "source": [
    "df[['Customer name']]=custname\n",
    "df['Rating']=rating\n",
    "df[['Review Title']]=review_title\n",
    "df['Review']=review\n",
    "\n"
   ]
  },
  {
   "cell_type": "code",
   "execution_count": 42,
   "metadata": {},
   "outputs": [
    {
     "data": {
      "text/html": [
       "<div>\n",
       "<style scoped>\n",
       "    .dataframe tbody tr th:only-of-type {\n",
       "        vertical-align: middle;\n",
       "    }\n",
       "\n",
       "    .dataframe tbody tr th {\n",
       "        vertical-align: top;\n",
       "    }\n",
       "\n",
       "    .dataframe thead th {\n",
       "        text-align: right;\n",
       "    }\n",
       "</style>\n",
       "<table border=\"1\" class=\"dataframe\">\n",
       "  <thead>\n",
       "    <tr style=\"text-align: right;\">\n",
       "      <th></th>\n",
       "      <th>Customer name</th>\n",
       "      <th>Rating</th>\n",
       "      <th>Review Title</th>\n",
       "      <th>Review</th>\n",
       "    </tr>\n",
       "  </thead>\n",
       "  <tbody>\n",
       "    <tr>\n",
       "      <th>0</th>\n",
       "      <td>Flipkart Customer</td>\n",
       "      <td>[5, []]</td>\n",
       "      <td>Awesome</td>\n",
       "      <td>[[[Love the camera💖🥰], [&lt;span&gt;READ MORE&lt;/span&gt;]]]</td>\n",
       "    </tr>\n",
       "    <tr>\n",
       "      <th>1</th>\n",
       "      <td>Flipkart Customer</td>\n",
       "      <td>[5, []]</td>\n",
       "      <td>Great product</td>\n",
       "      <td>[[[Damn such a great phone. Camera is really g...</td>\n",
       "    </tr>\n",
       "    <tr>\n",
       "      <th>2</th>\n",
       "      <td>Rahul Prasad</td>\n",
       "      <td>[5, []]</td>\n",
       "      <td>Fabulous!</td>\n",
       "      <td>[[[Best smart phone under this price range com...</td>\n",
       "    </tr>\n",
       "    <tr>\n",
       "      <th>3</th>\n",
       "      <td>Avi Nash</td>\n",
       "      <td>[5, []]</td>\n",
       "      <td>Just wow!</td>\n",
       "      <td>[[[Good], [&lt;span&gt;READ MORE&lt;/span&gt;]]]</td>\n",
       "    </tr>\n",
       "    <tr>\n",
       "      <th>4</th>\n",
       "      <td>Tara singh mehra</td>\n",
       "      <td>[5, []]</td>\n",
       "      <td>Great product</td>\n",
       "      <td>[[[Nice camera but battery drain fast speciall...</td>\n",
       "    </tr>\n",
       "    <tr>\n",
       "      <th>5</th>\n",
       "      <td>Ajay Kumar</td>\n",
       "      <td>[5, []]</td>\n",
       "      <td>Excellent</td>\n",
       "      <td>[[[Just amazing!], [&lt;span&gt;READ MORE&lt;/span&gt;]]]</td>\n",
       "    </tr>\n",
       "    <tr>\n",
       "      <th>6</th>\n",
       "      <td>Vipul Rai</td>\n",
       "      <td>[5, []]</td>\n",
       "      <td>Awesome</td>\n",
       "      <td>[[[Reasons to get it over regular 13, &lt;br/&gt;, -...</td>\n",
       "    </tr>\n",
       "    <tr>\n",
       "      <th>7</th>\n",
       "      <td>Waqar ahmed</td>\n",
       "      <td>[5, []]</td>\n",
       "      <td>Best in the market!</td>\n",
       "      <td>[[[Amazing picture quality, awesome design, mi...</td>\n",
       "    </tr>\n",
       "    <tr>\n",
       "      <th>8</th>\n",
       "      <td>Sanket  Hange</td>\n",
       "      <td>[5, []]</td>\n",
       "      <td>Must buy!</td>\n",
       "      <td>[[[The best camera best design !!, &lt;br/&gt;, 1st ...</td>\n",
       "    </tr>\n",
       "    <tr>\n",
       "      <th>9</th>\n",
       "      <td>Shivam  kumar</td>\n",
       "      <td>[5, []]</td>\n",
       "      <td>Terrific purchase</td>\n",
       "      <td>[[[Thanku filipkart best phone in the world ❤️...</td>\n",
       "    </tr>\n",
       "  </tbody>\n",
       "</table>\n",
       "</div>"
      ],
      "text/plain": [
       "       Customer name   Rating         Review Title  \\\n",
       "0  Flipkart Customer  [5, []]              Awesome   \n",
       "1  Flipkart Customer  [5, []]        Great product   \n",
       "2      Rahul Prasad   [5, []]            Fabulous!   \n",
       "3           Avi Nash  [5, []]            Just wow!   \n",
       "4   Tara singh mehra  [5, []]        Great product   \n",
       "5         Ajay Kumar  [5, []]            Excellent   \n",
       "6          Vipul Rai  [5, []]              Awesome   \n",
       "7        Waqar ahmed  [5, []]  Best in the market!   \n",
       "8     Sanket  Hange   [5, []]            Must buy!   \n",
       "9      Shivam  kumar  [5, []]    Terrific purchase   \n",
       "\n",
       "                                              Review  \n",
       "0  [[[Love the camera💖🥰], [<span>READ MORE</span>]]]  \n",
       "1  [[[Damn such a great phone. Camera is really g...  \n",
       "2  [[[Best smart phone under this price range com...  \n",
       "3               [[[Good], [<span>READ MORE</span>]]]  \n",
       "4  [[[Nice camera but battery drain fast speciall...  \n",
       "5      [[[Just amazing!], [<span>READ MORE</span>]]]  \n",
       "6  [[[Reasons to get it over regular 13, <br/>, -...  \n",
       "7  [[[Amazing picture quality, awesome design, mi...  \n",
       "8  [[[The best camera best design !!, <br/>, 1st ...  \n",
       "9  [[[Thanku filipkart best phone in the world ❤️...  "
      ]
     },
     "execution_count": 42,
     "metadata": {},
     "output_type": "execute_result"
    }
   ],
   "source": [
    "df"
   ]
  },
  {
   "cell_type": "code",
   "execution_count": null,
   "metadata": {},
   "outputs": [],
   "source": []
  }
 ],
 "metadata": {
  "kernelspec": {
   "display_name": "Python 3 (ipykernel)",
   "language": "python",
   "name": "python3"
  },
  "language_info": {
   "codemirror_mode": {
    "name": "ipython",
    "version": 3
   },
   "file_extension": ".py",
   "mimetype": "text/x-python",
   "name": "python",
   "nbconvert_exporter": "python",
   "pygments_lexer": "ipython3",
   "version": "3.11.4"
  }
 },
 "nbformat": 4,
 "nbformat_minor": 4
}
