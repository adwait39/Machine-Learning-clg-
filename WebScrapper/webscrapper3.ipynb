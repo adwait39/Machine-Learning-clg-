{
 "cells": [
  {
   "cell_type": "code",
   "execution_count": 1,
   "id": "79074d48-fa76-48eb-8ebe-fe02782f667e",
   "metadata": {},
   "outputs": [],
   "source": [
    "import requests\n",
    "import bs4"
   ]
  },
  {
   "cell_type": "code",
   "execution_count": 2,
   "id": "5f4ca19e-2167-49b3-a172-96d44f677d8e",
   "metadata": {},
   "outputs": [],
   "source": [
    "link = \"https://www.flipkart.com/apple-iphone-14-blue-128-gb/p/itmdb77f40da6b6d\""
   ]
  },
  {
   "cell_type": "code",
   "execution_count": 5,
   "id": "09987542-e53d-42bb-b465-ed56e5c5c56a",
   "metadata": {},
   "outputs": [],
   "source": [
    "headers = ({'User-Agent':'Mozilla/5.0 (Windows NT 10.0; Win64; x64) AppleWebKit/537.36 (KHTML, like Gecko) Chrome/124.0.0.0 Safari/537.36'})"
   ]
  },
  {
   "cell_type": "code",
   "execution_count": 6,
   "id": "628f7cf1-5120-4637-b7cb-3f05e8bcac71",
   "metadata": {},
   "outputs": [],
   "source": [
    "request1 = requests.get('https://www.flipkart.com/apple-iphone-14-blue-128-gb/p/itmdb77f40da6b6d', headers=headers)"
   ]
  },
  {
   "cell_type": "code",
   "execution_count": 9,
   "id": "2796f09a-a147-43d1-be51-28aca1df455c",
   "metadata": {},
   "outputs": [
    {
     "data": {
      "text/plain": [
       "<Response [500]>"
      ]
     },
     "execution_count": 9,
     "metadata": {},
     "output_type": "execute_result"
    }
   ],
   "source": [
    "request1"
   ]
  },
  {
   "cell_type": "code",
   "execution_count": 4,
   "id": "767e844b-3ffe-44b0-9249-7d70b3451d3f",
   "metadata": {},
   "outputs": [],
   "source": [
    "soup = bs4.BeautifulSoup(request1.text)"
   ]
  },
  {
   "cell_type": "code",
   "execution_count": 10,
   "id": "5417e126-733f-458a-baf5-88adee69a253",
   "metadata": {},
   "outputs": [],
   "source": [
    "custname = soup.find_all('p',{'class':'_2NsDsF AwS1CA'})"
   ]
  },
  {
   "cell_type": "code",
   "execution_count": null,
   "id": "39352ab5-c7c1-4cff-bc48-4a3760633cd8",
   "metadata": {},
   "outputs": [],
   "source": [
    "for name in custname:\n",
    "    print(name.get_text"
   ]
  }
 ],
 "metadata": {
  "kernelspec": {
   "display_name": "Python 3 (ipykernel)",
   "language": "python",
   "name": "python3"
  },
  "language_info": {
   "codemirror_mode": {
    "name": "ipython",
    "version": 3
   },
   "file_extension": ".py",
   "mimetype": "text/x-python",
   "name": "python",
   "nbconvert_exporter": "python",
   "pygments_lexer": "ipython3",
   "version": "3.11.4"
  }
 },
 "nbformat": 4,
 "nbformat_minor": 5
}
