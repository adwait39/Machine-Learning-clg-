{
 "cells": [
  {
   "cell_type": "code",
   "execution_count": 12,
   "id": "7fe41aca-5c33-4ca7-989a-774487ac4798",
   "metadata": {},
   "outputs": [],
   "source": [
    "import pandas as pd"
   ]
  },
  {
   "cell_type": "code",
   "execution_count": 18,
   "id": "5cb6330c-5e61-4572-9409-329d4cf1ae07",
   "metadata": {},
   "outputs": [],
   "source": [
    "columns= ['sepal length in cm','sepal width in cm','petal length in cm','petal width in cm','class']"
   ]
  },
  {
   "cell_type": "code",
   "execution_count": 19,
   "id": "acdedba0-0b04-4b08-8a38-d107f5771474",
   "metadata": {},
   "outputs": [],
   "source": [
    "df = pd.read_csv('Iris.csv', names = columns)"
   ]
  },
  {
   "cell_type": "code",
   "execution_count": 22,
   "id": "ddbe25d6-883c-4146-9214-eb31f0ba4f80",
   "metadata": {},
   "outputs": [
    {
     "name": "stdout",
     "output_type": "stream",
     "text": [
      "<class 'pandas.core.frame.DataFrame'>\n",
      "RangeIndex: 254 entries, 0 to 253\n",
      "Data columns (total 5 columns):\n",
      " #   Column              Non-Null Count  Dtype  \n",
      "---  ------              --------------  -----  \n",
      " 0   sepal length in cm  254 non-null    float64\n",
      " 1   sepal width in cm   254 non-null    float64\n",
      " 2   petal length in cm  254 non-null    float64\n",
      " 3   petal width in cm   254 non-null    float64\n",
      " 4   class               254 non-null    object \n",
      "dtypes: float64(4), object(1)\n",
      "memory usage: 10.1+ KB\n"
     ]
    }
   ],
   "source": [
    "df.info()"
   ]
  },
  {
   "cell_type": "code",
   "execution_count": 23,
   "id": "140041a1-ceae-419a-8ceb-3d7dc3be8240",
   "metadata": {},
   "outputs": [
    {
     "data": {
      "text/html": [
       "<div>\n",
       "<style scoped>\n",
       "    .dataframe tbody tr th:only-of-type {\n",
       "        vertical-align: middle;\n",
       "    }\n",
       "\n",
       "    .dataframe tbody tr th {\n",
       "        vertical-align: top;\n",
       "    }\n",
       "\n",
       "    .dataframe thead th {\n",
       "        text-align: right;\n",
       "    }\n",
       "</style>\n",
       "<table border=\"1\" class=\"dataframe\">\n",
       "  <thead>\n",
       "    <tr style=\"text-align: right;\">\n",
       "      <th></th>\n",
       "      <th>sepal length in cm</th>\n",
       "      <th>sepal width in cm</th>\n",
       "      <th>petal length in cm</th>\n",
       "      <th>petal width in cm</th>\n",
       "      <th>class</th>\n",
       "    </tr>\n",
       "  </thead>\n",
       "  <tbody>\n",
       "    <tr>\n",
       "      <th>0</th>\n",
       "      <td>5.1</td>\n",
       "      <td>3.5</td>\n",
       "      <td>1.4</td>\n",
       "      <td>0.2</td>\n",
       "      <td>Iris-setosa</td>\n",
       "    </tr>\n",
       "    <tr>\n",
       "      <th>1</th>\n",
       "      <td>4.9</td>\n",
       "      <td>3.0</td>\n",
       "      <td>1.4</td>\n",
       "      <td>0.2</td>\n",
       "      <td>Iris-setosa</td>\n",
       "    </tr>\n",
       "    <tr>\n",
       "      <th>2</th>\n",
       "      <td>4.7</td>\n",
       "      <td>3.2</td>\n",
       "      <td>1.3</td>\n",
       "      <td>0.2</td>\n",
       "      <td>Iris-setosa</td>\n",
       "    </tr>\n",
       "    <tr>\n",
       "      <th>3</th>\n",
       "      <td>4.6</td>\n",
       "      <td>3.1</td>\n",
       "      <td>1.5</td>\n",
       "      <td>0.2</td>\n",
       "      <td>Iris-setosa</td>\n",
       "    </tr>\n",
       "    <tr>\n",
       "      <th>4</th>\n",
       "      <td>5.0</td>\n",
       "      <td>3.6</td>\n",
       "      <td>1.4</td>\n",
       "      <td>0.2</td>\n",
       "      <td>Iris-setosa</td>\n",
       "    </tr>\n",
       "  </tbody>\n",
       "</table>\n",
       "</div>"
      ],
      "text/plain": [
       "   sepal length in cm  sepal width in cm  petal length in cm  \\\n",
       "0                 5.1                3.5                 1.4   \n",
       "1                 4.9                3.0                 1.4   \n",
       "2                 4.7                3.2                 1.3   \n",
       "3                 4.6                3.1                 1.5   \n",
       "4                 5.0                3.6                 1.4   \n",
       "\n",
       "   petal width in cm        class  \n",
       "0                0.2  Iris-setosa  \n",
       "1                0.2  Iris-setosa  \n",
       "2                0.2  Iris-setosa  \n",
       "3                0.2  Iris-setosa  \n",
       "4                0.2  Iris-setosa  "
      ]
     },
     "execution_count": 23,
     "metadata": {},
     "output_type": "execute_result"
    }
   ],
   "source": [
    "df.head()"
   ]
  },
  {
   "cell_type": "code",
   "execution_count": 24,
   "id": "292c3037-fb48-4bfa-a8b2-b4907ed6affa",
   "metadata": {},
   "outputs": [
    {
     "data": {
      "text/plain": [
       "sepal length in cm    0\n",
       "sepal width in cm     0\n",
       "petal length in cm    0\n",
       "petal width in cm     0\n",
       "class                 0\n",
       "dtype: int64"
      ]
     },
     "execution_count": 24,
     "metadata": {},
     "output_type": "execute_result"
    }
   ],
   "source": [
    "df.isna().sum()"
   ]
  },
  {
   "cell_type": "code",
   "execution_count": 25,
   "id": "39367d82-1065-4e06-b7d5-ccde2b43ca0e",
   "metadata": {},
   "outputs": [
    {
     "data": {
      "text/html": [
       "<div>\n",
       "<style scoped>\n",
       "    .dataframe tbody tr th:only-of-type {\n",
       "        vertical-align: middle;\n",
       "    }\n",
       "\n",
       "    .dataframe tbody tr th {\n",
       "        vertical-align: top;\n",
       "    }\n",
       "\n",
       "    .dataframe thead th {\n",
       "        text-align: right;\n",
       "    }\n",
       "</style>\n",
       "<table border=\"1\" class=\"dataframe\">\n",
       "  <thead>\n",
       "    <tr style=\"text-align: right;\">\n",
       "      <th></th>\n",
       "      <th>sepal length in cm</th>\n",
       "      <th>sepal width in cm</th>\n",
       "      <th>petal length in cm</th>\n",
       "      <th>petal width in cm</th>\n",
       "      <th>class</th>\n",
       "    </tr>\n",
       "  </thead>\n",
       "  <tbody>\n",
       "    <tr>\n",
       "      <th>0</th>\n",
       "      <td>5.1</td>\n",
       "      <td>3.5</td>\n",
       "      <td>1.4</td>\n",
       "      <td>0.2</td>\n",
       "      <td>Iris-setosa</td>\n",
       "    </tr>\n",
       "    <tr>\n",
       "      <th>1</th>\n",
       "      <td>4.9</td>\n",
       "      <td>3.0</td>\n",
       "      <td>1.4</td>\n",
       "      <td>0.2</td>\n",
       "      <td>Iris-setosa</td>\n",
       "    </tr>\n",
       "    <tr>\n",
       "      <th>2</th>\n",
       "      <td>4.7</td>\n",
       "      <td>3.2</td>\n",
       "      <td>1.3</td>\n",
       "      <td>0.2</td>\n",
       "      <td>Iris-setosa</td>\n",
       "    </tr>\n",
       "    <tr>\n",
       "      <th>3</th>\n",
       "      <td>4.6</td>\n",
       "      <td>3.1</td>\n",
       "      <td>1.5</td>\n",
       "      <td>0.2</td>\n",
       "      <td>Iris-setosa</td>\n",
       "    </tr>\n",
       "    <tr>\n",
       "      <th>4</th>\n",
       "      <td>5.0</td>\n",
       "      <td>3.6</td>\n",
       "      <td>1.4</td>\n",
       "      <td>0.2</td>\n",
       "      <td>Iris-setosa</td>\n",
       "    </tr>\n",
       "    <tr>\n",
       "      <th>...</th>\n",
       "      <td>...</td>\n",
       "      <td>...</td>\n",
       "      <td>...</td>\n",
       "      <td>...</td>\n",
       "      <td>...</td>\n",
       "    </tr>\n",
       "    <tr>\n",
       "      <th>145</th>\n",
       "      <td>6.7</td>\n",
       "      <td>3.0</td>\n",
       "      <td>5.2</td>\n",
       "      <td>2.3</td>\n",
       "      <td>Iris-virginica</td>\n",
       "    </tr>\n",
       "    <tr>\n",
       "      <th>146</th>\n",
       "      <td>6.3</td>\n",
       "      <td>2.5</td>\n",
       "      <td>5.0</td>\n",
       "      <td>1.9</td>\n",
       "      <td>Iris-virginica</td>\n",
       "    </tr>\n",
       "    <tr>\n",
       "      <th>147</th>\n",
       "      <td>6.5</td>\n",
       "      <td>3.0</td>\n",
       "      <td>5.2</td>\n",
       "      <td>2.0</td>\n",
       "      <td>Iris-virginica</td>\n",
       "    </tr>\n",
       "    <tr>\n",
       "      <th>148</th>\n",
       "      <td>6.2</td>\n",
       "      <td>3.4</td>\n",
       "      <td>5.4</td>\n",
       "      <td>2.3</td>\n",
       "      <td>Iris-virginica</td>\n",
       "    </tr>\n",
       "    <tr>\n",
       "      <th>149</th>\n",
       "      <td>5.9</td>\n",
       "      <td>3.0</td>\n",
       "      <td>5.1</td>\n",
       "      <td>1.8</td>\n",
       "      <td>Iris-virginica</td>\n",
       "    </tr>\n",
       "  </tbody>\n",
       "</table>\n",
       "<p>147 rows × 5 columns</p>\n",
       "</div>"
      ],
      "text/plain": [
       "     sepal length in cm  sepal width in cm  petal length in cm  \\\n",
       "0                   5.1                3.5                 1.4   \n",
       "1                   4.9                3.0                 1.4   \n",
       "2                   4.7                3.2                 1.3   \n",
       "3                   4.6                3.1                 1.5   \n",
       "4                   5.0                3.6                 1.4   \n",
       "..                  ...                ...                 ...   \n",
       "145                 6.7                3.0                 5.2   \n",
       "146                 6.3                2.5                 5.0   \n",
       "147                 6.5                3.0                 5.2   \n",
       "148                 6.2                3.4                 5.4   \n",
       "149                 5.9                3.0                 5.1   \n",
       "\n",
       "     petal width in cm           class  \n",
       "0                  0.2     Iris-setosa  \n",
       "1                  0.2     Iris-setosa  \n",
       "2                  0.2     Iris-setosa  \n",
       "3                  0.2     Iris-setosa  \n",
       "4                  0.2     Iris-setosa  \n",
       "..                 ...             ...  \n",
       "145                2.3  Iris-virginica  \n",
       "146                1.9  Iris-virginica  \n",
       "147                2.0  Iris-virginica  \n",
       "148                2.3  Iris-virginica  \n",
       "149                1.8  Iris-virginica  \n",
       "\n",
       "[147 rows x 5 columns]"
      ]
     },
     "execution_count": 25,
     "metadata": {},
     "output_type": "execute_result"
    }
   ],
   "source": [
    "df.drop_duplicates()"
   ]
  },
  {
   "cell_type": "code",
   "execution_count": 26,
   "id": "274b1d7b-1186-4d38-a3b3-588efef5d3fb",
   "metadata": {},
   "outputs": [
    {
     "name": "stdout",
     "output_type": "stream",
     "text": [
      "<class 'pandas.core.frame.DataFrame'>\n",
      "RangeIndex: 254 entries, 0 to 253\n",
      "Data columns (total 5 columns):\n",
      " #   Column              Non-Null Count  Dtype  \n",
      "---  ------              --------------  -----  \n",
      " 0   sepal length in cm  254 non-null    float64\n",
      " 1   sepal width in cm   254 non-null    float64\n",
      " 2   petal length in cm  254 non-null    float64\n",
      " 3   petal width in cm   254 non-null    float64\n",
      " 4   class               254 non-null    object \n",
      "dtypes: float64(4), object(1)\n",
      "memory usage: 10.1+ KB\n"
     ]
    }
   ],
   "source": [
    "df.info()"
   ]
  },
  {
   "cell_type": "code",
   "execution_count": 27,
   "id": "bc01d4e1-c177-4d20-b288-c63fbf36b18a",
   "metadata": {},
   "outputs": [
    {
     "data": {
      "text/plain": [
       "sepal length in cm    0\n",
       "sepal width in cm     0\n",
       "petal length in cm    0\n",
       "petal width in cm     0\n",
       "class                 0\n",
       "dtype: int64"
      ]
     },
     "execution_count": 27,
     "metadata": {},
     "output_type": "execute_result"
    }
   ],
   "source": [
    "df.isna().sum()"
   ]
  },
  {
   "cell_type": "code",
   "execution_count": 29,
   "id": "32b666c1-5813-45fb-8a3c-7699f30ccde9",
   "metadata": {},
   "outputs": [
    {
     "name": "stdout",
     "output_type": "stream",
     "text": [
      "Upper Limit: 4.215778590453246\n",
      "Lower Limit: 1.7629615670270684\n"
     ]
    }
   ],
   "source": [
    "lower_limit = df['sepal width in cm'].mean()-3*df['sepal width in cm'].std()\n",
    "upper_limit = df['sepal width in cm'].mean()+3*df['sepal width in cm'].std()\n",
    "print('Upper Limit:', upper_limit)\n",
    "print('Lower Limit:',lower_limit)"
   ]
  },
  {
   "cell_type": "code",
   "execution_count": 30,
   "id": "0297cd47-0fa8-4719-9bb0-3559c9205056",
   "metadata": {},
   "outputs": [
    {
     "data": {
      "text/html": [
       "<div>\n",
       "<style scoped>\n",
       "    .dataframe tbody tr th:only-of-type {\n",
       "        vertical-align: middle;\n",
       "    }\n",
       "\n",
       "    .dataframe tbody tr th {\n",
       "        vertical-align: top;\n",
       "    }\n",
       "\n",
       "    .dataframe thead th {\n",
       "        text-align: right;\n",
       "    }\n",
       "</style>\n",
       "<table border=\"1\" class=\"dataframe\">\n",
       "  <thead>\n",
       "    <tr style=\"text-align: right;\">\n",
       "      <th></th>\n",
       "      <th>sepal length in cm</th>\n",
       "      <th>sepal width in cm</th>\n",
       "      <th>petal length in cm</th>\n",
       "      <th>petal width in cm</th>\n",
       "      <th>class</th>\n",
       "    </tr>\n",
       "  </thead>\n",
       "  <tbody>\n",
       "    <tr>\n",
       "      <th>15</th>\n",
       "      <td>5.7</td>\n",
       "      <td>4.4</td>\n",
       "      <td>1.5</td>\n",
       "      <td>0.4</td>\n",
       "      <td>Iris-setosa</td>\n",
       "    </tr>\n",
       "  </tbody>\n",
       "</table>\n",
       "</div>"
      ],
      "text/plain": [
       "    sepal length in cm  sepal width in cm  petal length in cm  \\\n",
       "15                 5.7                4.4                 1.5   \n",
       "\n",
       "    petal width in cm        class  \n",
       "15                0.4  Iris-setosa  "
      ]
     },
     "execution_count": 30,
     "metadata": {},
     "output_type": "execute_result"
    }
   ],
   "source": [
    "df.loc[(df['sepal width in cm']>upper_limit)|(df['sepal width in cm']<lower_limit)] "
   ]
  },
  {
   "cell_type": "code",
   "execution_count": 31,
   "id": "ae074edb-d567-441a-8a55-c50f596ad2d0",
   "metadata": {},
   "outputs": [],
   "source": [
    "newdf = df.loc[(df['sepal width in cm']<upper_limit)&(df['sepal width in cm']>lower_limit)] "
   ]
  },
  {
   "cell_type": "code",
   "execution_count": 32,
   "id": "df1de2fe-6892-4fca-953c-c7698e0a3547",
   "metadata": {},
   "outputs": [
    {
     "data": {
      "text/plain": [
       "254"
      ]
     },
     "execution_count": 32,
     "metadata": {},
     "output_type": "execute_result"
    }
   ],
   "source": [
    "len(df)"
   ]
  },
  {
   "cell_type": "code",
   "execution_count": 33,
   "id": "c782051d-2188-4b6e-920b-ca57afe16367",
   "metadata": {},
   "outputs": [
    {
     "data": {
      "text/plain": [
       "253"
      ]
     },
     "execution_count": 33,
     "metadata": {},
     "output_type": "execute_result"
    }
   ],
   "source": [
    "len(newdf)"
   ]
  },
  {
   "cell_type": "code",
   "execution_count": 34,
   "id": "582e3989-a521-4ba3-9080-893e511e969d",
   "metadata": {},
   "outputs": [],
   "source": [
    "from sklearn.preprocessing import StandardScaler"
   ]
  },
  {
   "cell_type": "code",
   "execution_count": 38,
   "id": "4d0110e5-306d-4be5-abc6-83e0dc5a97a4",
   "metadata": {},
   "outputs": [],
   "source": [
    "scaler = StandardScaler()"
   ]
  },
  {
   "cell_type": "code",
   "execution_count": 39,
   "id": "d21388ae-5356-49bf-9188-9b5eab9192b3",
   "metadata": {},
   "outputs": [],
   "source": [
    "from sklearn.preprocessing import LabelEncoder"
   ]
  },
  {
   "cell_type": "code",
   "execution_count": 40,
   "id": "fc49e02e-00c0-4cea-b56d-bef9d6d99686",
   "metadata": {},
   "outputs": [],
   "source": [
    "label_encoder = LabelEncoder()"
   ]
  },
  {
   "cell_type": "code",
   "execution_count": 41,
   "id": "b2485eb8-510a-40f9-99b7-3541af71cc9a",
   "metadata": {},
   "outputs": [
    {
     "name": "stderr",
     "output_type": "stream",
     "text": [
      "C:\\Users\\adwai\\AppData\\Local\\Temp\\ipykernel_14304\\565395453.py:1: SettingWithCopyWarning: \n",
      "A value is trying to be set on a copy of a slice from a DataFrame.\n",
      "Try using .loc[row_indexer,col_indexer] = value instead\n",
      "\n",
      "See the caveats in the documentation: https://pandas.pydata.org/pandas-docs/stable/user_guide/indexing.html#returning-a-view-versus-a-copy\n",
      "  newdf['class']=label_encoder.fit_transform(newdf['class'])\n"
     ]
    }
   ],
   "source": [
    "newdf['class']=label_encoder.fit_transform(newdf['class'])"
   ]
  },
  {
   "cell_type": "code",
   "execution_count": 42,
   "id": "798c9ac2-2d71-4af0-88a0-4d2d60850503",
   "metadata": {},
   "outputs": [
    {
     "data": {
      "text/html": [
       "<div>\n",
       "<style scoped>\n",
       "    .dataframe tbody tr th:only-of-type {\n",
       "        vertical-align: middle;\n",
       "    }\n",
       "\n",
       "    .dataframe tbody tr th {\n",
       "        vertical-align: top;\n",
       "    }\n",
       "\n",
       "    .dataframe thead th {\n",
       "        text-align: right;\n",
       "    }\n",
       "</style>\n",
       "<table border=\"1\" class=\"dataframe\">\n",
       "  <thead>\n",
       "    <tr style=\"text-align: right;\">\n",
       "      <th></th>\n",
       "      <th>sepal length in cm</th>\n",
       "      <th>sepal width in cm</th>\n",
       "      <th>petal length in cm</th>\n",
       "      <th>petal width in cm</th>\n",
       "      <th>class</th>\n",
       "    </tr>\n",
       "  </thead>\n",
       "  <tbody>\n",
       "    <tr>\n",
       "      <th>0</th>\n",
       "      <td>5.1</td>\n",
       "      <td>3.5</td>\n",
       "      <td>1.4</td>\n",
       "      <td>0.2</td>\n",
       "      <td>0</td>\n",
       "    </tr>\n",
       "    <tr>\n",
       "      <th>1</th>\n",
       "      <td>4.9</td>\n",
       "      <td>3.0</td>\n",
       "      <td>1.4</td>\n",
       "      <td>0.2</td>\n",
       "      <td>0</td>\n",
       "    </tr>\n",
       "    <tr>\n",
       "      <th>2</th>\n",
       "      <td>4.7</td>\n",
       "      <td>3.2</td>\n",
       "      <td>1.3</td>\n",
       "      <td>0.2</td>\n",
       "      <td>0</td>\n",
       "    </tr>\n",
       "    <tr>\n",
       "      <th>3</th>\n",
       "      <td>4.6</td>\n",
       "      <td>3.1</td>\n",
       "      <td>1.5</td>\n",
       "      <td>0.2</td>\n",
       "      <td>0</td>\n",
       "    </tr>\n",
       "    <tr>\n",
       "      <th>4</th>\n",
       "      <td>5.0</td>\n",
       "      <td>3.6</td>\n",
       "      <td>1.4</td>\n",
       "      <td>0.2</td>\n",
       "      <td>0</td>\n",
       "    </tr>\n",
       "  </tbody>\n",
       "</table>\n",
       "</div>"
      ],
      "text/plain": [
       "   sepal length in cm  sepal width in cm  petal length in cm  \\\n",
       "0                 5.1                3.5                 1.4   \n",
       "1                 4.9                3.0                 1.4   \n",
       "2                 4.7                3.2                 1.3   \n",
       "3                 4.6                3.1                 1.5   \n",
       "4                 5.0                3.6                 1.4   \n",
       "\n",
       "   petal width in cm  class  \n",
       "0                0.2      0  \n",
       "1                0.2      0  \n",
       "2                0.2      0  \n",
       "3                0.2      0  \n",
       "4                0.2      0  "
      ]
     },
     "execution_count": 42,
     "metadata": {},
     "output_type": "execute_result"
    }
   ],
   "source": [
    "newdf.head()"
   ]
  },
  {
   "cell_type": "code",
   "execution_count": 43,
   "id": "46ddd578-d363-4db4-ba40-f287084e28e8",
   "metadata": {},
   "outputs": [
    {
     "data": {
      "text/html": [
       "<div>\n",
       "<style scoped>\n",
       "    .dataframe tbody tr th:only-of-type {\n",
       "        vertical-align: middle;\n",
       "    }\n",
       "\n",
       "    .dataframe tbody tr th {\n",
       "        vertical-align: top;\n",
       "    }\n",
       "\n",
       "    .dataframe thead th {\n",
       "        text-align: right;\n",
       "    }\n",
       "</style>\n",
       "<table border=\"1\" class=\"dataframe\">\n",
       "  <thead>\n",
       "    <tr style=\"text-align: right;\">\n",
       "      <th></th>\n",
       "      <th>sepal length in cm</th>\n",
       "      <th>sepal width in cm</th>\n",
       "      <th>petal length in cm</th>\n",
       "      <th>petal width in cm</th>\n",
       "      <th>class</th>\n",
       "    </tr>\n",
       "  </thead>\n",
       "  <tbody>\n",
       "    <tr>\n",
       "      <th>249</th>\n",
       "      <td>6.7</td>\n",
       "      <td>3.0</td>\n",
       "      <td>5.2</td>\n",
       "      <td>2.3</td>\n",
       "      <td>2</td>\n",
       "    </tr>\n",
       "    <tr>\n",
       "      <th>250</th>\n",
       "      <td>6.3</td>\n",
       "      <td>2.5</td>\n",
       "      <td>5.0</td>\n",
       "      <td>1.9</td>\n",
       "      <td>2</td>\n",
       "    </tr>\n",
       "    <tr>\n",
       "      <th>251</th>\n",
       "      <td>6.5</td>\n",
       "      <td>3.0</td>\n",
       "      <td>5.2</td>\n",
       "      <td>2.0</td>\n",
       "      <td>2</td>\n",
       "    </tr>\n",
       "    <tr>\n",
       "      <th>252</th>\n",
       "      <td>6.2</td>\n",
       "      <td>3.4</td>\n",
       "      <td>5.4</td>\n",
       "      <td>2.3</td>\n",
       "      <td>2</td>\n",
       "    </tr>\n",
       "    <tr>\n",
       "      <th>253</th>\n",
       "      <td>5.9</td>\n",
       "      <td>3.0</td>\n",
       "      <td>5.1</td>\n",
       "      <td>1.8</td>\n",
       "      <td>2</td>\n",
       "    </tr>\n",
       "  </tbody>\n",
       "</table>\n",
       "</div>"
      ],
      "text/plain": [
       "     sepal length in cm  sepal width in cm  petal length in cm  \\\n",
       "249                 6.7                3.0                 5.2   \n",
       "250                 6.3                2.5                 5.0   \n",
       "251                 6.5                3.0                 5.2   \n",
       "252                 6.2                3.4                 5.4   \n",
       "253                 5.9                3.0                 5.1   \n",
       "\n",
       "     petal width in cm  class  \n",
       "249                2.3      2  \n",
       "250                1.9      2  \n",
       "251                2.0      2  \n",
       "252                2.3      2  \n",
       "253                1.8      2  "
      ]
     },
     "execution_count": 43,
     "metadata": {},
     "output_type": "execute_result"
    }
   ],
   "source": [
    "newdf.tail()"
   ]
  },
  {
   "cell_type": "code",
   "execution_count": 44,
   "id": "8969f35c-b4d7-44bb-9cc8-625234c1c568",
   "metadata": {},
   "outputs": [
    {
     "data": {
      "text/plain": [
       "sepal length in cm    float64\n",
       "sepal width in cm     float64\n",
       "petal length in cm    float64\n",
       "petal width in cm     float64\n",
       "class                  object\n",
       "dtype: object"
      ]
     },
     "execution_count": 44,
     "metadata": {},
     "output_type": "execute_result"
    }
   ],
   "source": [
    "df.dtypes"
   ]
  },
  {
   "cell_type": "code",
   "execution_count": 67,
   "id": "e077aac1-0963-4b20-875e-fb683a32d3af",
   "metadata": {},
   "outputs": [],
   "source": [
    "y = newdf['class']\n",
    "X = newdf[['sepal length in cm','sepal width in cm','petal length in cm','petal width in cm']]"
   ]
  },
  {
   "cell_type": "code",
   "execution_count": 68,
   "id": "79669cc3-39ed-4b1a-a025-8fd816c63c34",
   "metadata": {},
   "outputs": [],
   "source": [
    "from sklearn.model_selection import train_test_split"
   ]
  },
  {
   "cell_type": "code",
   "execution_count": 69,
   "id": "4e6100c6-52bf-44c1-88ad-4acfcaf76eaa",
   "metadata": {},
   "outputs": [],
   "source": [
    "X_train,X_test,y_train,y_test = train_test_split(X,y,test_size=0.30)"
   ]
  },
  {
   "cell_type": "code",
   "execution_count": 70,
   "id": "8c879d3f-b7a6-4dff-8b97-2c9c77c83576",
   "metadata": {
    "scrolled": true
   },
   "outputs": [
    {
     "data": {
      "text/plain": [
       "array([[-1.38815142, -1.26966576,  0.22585862,  0.45884699],\n",
       "       [-0.35632863, -1.02931192, -0.39202354, -0.50965628],\n",
       "       [-0.22735078, -0.78895808, -0.14487068, -0.23294106],\n",
       "       [ 0.54651631, -0.54860424,  0.905529  ,  1.15063505],\n",
       "       [ 0.03060491, -1.99072727,  0.5347997 ,  0.18213177],\n",
       "       [ 0.41753846,  0.89351879,  0.905529  ,  1.42735027],\n",
       "       [ 1.19140555,  0.17245727,  0.59658792,  1.28899266],\n",
       "       [ 1.70731694, -0.3082504 ,  1.33804651,  0.5972046 ],\n",
       "       [-1.77508496,  0.17245727, -1.62778787, -1.61651717],\n",
       "       [ 1.19140555,  0.41281111,  0.96731722,  1.28899266],\n",
       "       [-1.51712927,  0.17245727, -1.56599965, -1.61651717],\n",
       "       [ 0.41753846, -0.3082504 ,  0.905529  ,  0.5972046 ],\n",
       "       [ 1.57833909, -0.06789656,  1.02910543,  0.32048938],\n",
       "       [-0.22735078, -0.78895808, -0.14487068, -0.23294106],\n",
       "       [ 1.57833909,  1.37422646,  1.21447008,  1.56570788],\n",
       "       [ 0.03060491, -0.3082504 ,  0.22585862,  0.18213177],\n",
       "       [-1.00121787,  2.57599566, -1.62778787, -1.75487478],\n",
       "       [ 1.0624277 , -0.06789656,  0.84374078,  1.01227744],\n",
       "       [ 0.41753846, -0.78895808,  0.47301149,  0.5972046 ],\n",
       "       [-0.74326218, -0.06789656,  0.22585862,  0.18213177],\n",
       "       [-0.61428433, -1.75037343, -0.08308246, -0.09458345],\n",
       "       [-0.35632863, -0.3082504 ,  0.04049397, -0.09458345],\n",
       "       [-0.48530648, -0.06789656, -0.02129424, -0.09458345],\n",
       "       [ 1.44936124, -0.06789656,  1.09089365,  1.01227744],\n",
       "       [-1.13019572,  1.6145803 , -1.62778787, -1.33980195],\n",
       "       [ 0.93344985, -0.06789656,  0.65837613,  1.28899266],\n",
       "       [ 0.41753846, -1.26966576,  0.47301149,  0.18213177],\n",
       "       [ 1.0624277 ,  0.41281111,  1.09089365,  1.28899266],\n",
       "       [ 0.93344985,  0.65316495,  0.96731722,  1.56570788],\n",
       "       [ 0.15958276, -1.02931192,  0.905529  ,  0.04377416],\n",
       "       [-0.61428433, -1.02931192,  0.1640704 , -0.23294106],\n",
       "       [ 0.03060491, -1.99072727,  0.5347997 ,  0.18213177],\n",
       "       [ 0.93344985,  0.17245727,  0.1640704 ,  0.04377416],\n",
       "       [-0.35632863, -0.06789656,  0.04049397, -0.23294106],\n",
       "       [-0.74326218,  2.09528798, -1.7513643 , -1.33980195],\n",
       "       [-0.74326218,  1.6145803 , -1.62778787, -1.61651717],\n",
       "       [-2.03304066, -0.3082504 , -1.68957608, -1.61651717],\n",
       "       [-1.13019572, -1.26966576, -0.70096462, -0.37129867],\n",
       "       [-0.48530648, -0.54860424,  0.47301149,  0.87391983],\n",
       "       [-1.25917357,  1.37422646, -1.68957608, -1.61651717],\n",
       "       [-1.13019572,  1.85493414, -1.62778787, -1.47815956],\n",
       "       [ 0.41753846,  0.65316495,  1.15268186,  1.56570788],\n",
       "       [ 0.804472  , -0.06789656,  0.1640704 ,  0.04377416],\n",
       "       [-0.35632863, -1.26966576,  0.5347997 ,  0.87391983],\n",
       "       [-0.48530648, -1.26966576, -0.14487068, -0.37129867],\n",
       "       [-0.48530648, -0.06789656,  0.22585862,  0.18213177],\n",
       "       [ 2.48118403,  1.85493414,  1.39983473,  0.87391983],\n",
       "       [-0.87224002,  1.6145803 , -1.62778787, -1.61651717],\n",
       "       [ 0.54651631, -0.54860424,  0.905529  ,  1.01227744],\n",
       "       [ 0.67549415, -0.06789656,  1.02910543,  1.15063505],\n",
       "       [ 0.41753846, -1.26966576,  0.5347997 ,  0.73556221],\n",
       "       [-0.09837294, -0.06789656,  0.59658792,  0.5972046 ],\n",
       "       [ 0.28856061, -0.3082504 ,  0.10228219, -0.09458345],\n",
       "       [-0.48530648, -0.06789656, -0.02129424, -0.09458345],\n",
       "       [ 0.54651631,  0.41281111,  0.72016435,  1.28899266],\n",
       "       [ 0.15958276, -0.06789656,  0.47301149,  0.5972046 ],\n",
       "       [-1.25917357, -2.47143495, -0.39202354, -0.50965628],\n",
       "       [-1.13019572,  0.65316495, -1.50421143, -1.20144434],\n",
       "       [ 0.93344985,  0.17245727,  0.905529  ,  1.42735027],\n",
       "       [-1.38815142,  0.17245727, -1.62778787, -1.75487478],\n",
       "       [ 0.93344985,  0.65316495,  0.96731722,  1.01227744],\n",
       "       [ 0.54651631, -0.3082504 ,  0.10228219, -0.09458345],\n",
       "       [ 0.15958276, -0.06789656,  0.28764684,  0.04377416],\n",
       "       [-1.25917357,  0.65316495, -1.68957608, -1.61651717],\n",
       "       [ 0.67549415, -0.54860424,  0.28764684,  0.18213177],\n",
       "       [ 2.09425049, -0.06789656,  1.52341116,  1.01227744],\n",
       "       [-0.61428433, -1.51001959, -0.20665889, -0.37129867],\n",
       "       [ 0.67549415,  0.41281111,  0.59658792,  0.87391983],\n",
       "       [ 0.93344985,  0.17245727,  0.34943505,  0.18213177],\n",
       "       [ 2.22322833, -1.02931192,  1.70877581,  1.28899266],\n",
       "       [-1.13019572,  1.85493414, -1.380635  , -1.33980195],\n",
       "       [ 0.54651631,  0.41281111,  0.22585862,  0.18213177],\n",
       "       [ 0.93344985, -0.06789656,  0.65837613,  1.28899266],\n",
       "       [-0.61428433,  2.81634949, -1.68957608, -1.61651717],\n",
       "       [-0.48530648, -0.78895808,  0.04049397, -0.09458345],\n",
       "       [ 0.03060491, -0.78895808,  0.59658792,  0.32048938],\n",
       "       [-0.22735078, -1.02931192, -0.08308246, -0.23294106],\n",
       "       [ 0.15958276, -1.02931192,  0.905529  ,  0.04377416],\n",
       "       [-1.64610711,  0.41281111, -1.7513643 , -1.61651717],\n",
       "       [ 0.93344985,  0.17245727,  0.34943505,  0.18213177],\n",
       "       [ 2.22322833, -0.54860424,  1.58519938,  0.87391983],\n",
       "       [-0.48530648, -0.3082504 , -0.33023533, -0.09458345],\n",
       "       [ 0.03060491, -0.06789656,  0.41122327,  0.5972046 ],\n",
       "       [-1.25917357, -1.75037343, -0.51559997, -0.50965628],\n",
       "       [-0.87224002,  1.6145803 , -1.62778787, -1.61651717],\n",
       "       [-1.00121787, -0.78895808, -0.14487068,  0.04377416],\n",
       "       [ 0.41753846,  0.89351879,  0.905529  ,  1.42735027],\n",
       "       [-0.74326218,  2.09528798, -1.50421143, -1.33980195],\n",
       "       [ 1.3203834 ,  0.41281111,  0.34943505,  0.04377416],\n",
       "       [ 0.93344985,  0.17245727,  0.1640704 ,  0.04377416],\n",
       "       [ 0.54651631,  0.17245727,  0.84374078,  0.5972046 ],\n",
       "       [-1.25917357, -0.06789656, -1.56599965, -1.61651717],\n",
       "       [ 0.93344985,  0.65316495,  0.96731722,  1.56570788],\n",
       "       [-1.25917357,  0.89351879, -1.56599965, -1.33980195],\n",
       "       [ 0.41753846, -0.78895808,  0.47301149,  0.5972046 ],\n",
       "       [-1.51712927, -0.06789656, -1.68957608, -1.75487478],\n",
       "       [ 0.15958276, -0.54860424, -0.08308246, -0.09458345],\n",
       "       [-0.35632863, -0.3082504 ,  0.04049397, -0.09458345],\n",
       "       [ 0.28856061,  0.89351879,  0.78195257,  1.28899266],\n",
       "       [-1.00121787,  1.13387263, -1.62778787, -1.61651717],\n",
       "       [-0.74326218,  0.89351879, -1.62778787, -1.33980195],\n",
       "       [-0.35632863, -1.26966576,  0.5347997 ,  0.87391983],\n",
       "       [-1.51712927,  0.89351879, -1.380635  , -1.61651717],\n",
       "       [ 0.67549415, -0.06789656,  0.84374078,  0.5972046 ],\n",
       "       [-1.00121787,  0.89351879, -1.68957608, -1.61651717],\n",
       "       [ 0.54651631,  0.17245727,  0.84374078,  0.5972046 ],\n",
       "       [-1.13019572,  1.85493414, -1.56599965, -1.61651717],\n",
       "       [ 1.57833909,  1.37422646,  1.21447008,  1.56570788],\n",
       "       [-1.13019572, -1.26966576, -0.70096462, -0.37129867],\n",
       "       [ 0.28856061,  0.89351879,  0.78195257,  1.28899266],\n",
       "       [-0.61428433, -1.51001959, -0.26844711, -0.50965628],\n",
       "       [ 0.41753846, -0.3082504 ,  0.905529  ,  0.5972046 ],\n",
       "       [-1.25917357,  0.89351879, -1.62778787, -1.61651717],\n",
       "       [-1.77508496,  0.89351879, -1.68957608, -1.47815956],\n",
       "       [ 1.0624277 , -0.06789656,  0.84374078,  1.01227744],\n",
       "       [-0.35632863, -0.54860424, -0.02129424, -0.09458345],\n",
       "       [-0.22735078, -0.78895808,  0.59658792,  0.73556221],\n",
       "       [ 0.93344985,  0.65316495,  0.96731722,  1.01227744],\n",
       "       [-1.25917357,  0.41281111, -1.81315251, -1.61651717],\n",
       "       [ 0.67549415, -0.06789656,  0.84374078,  0.5972046 ],\n",
       "       [ 0.03060491, -1.99072727, -0.08308246, -0.50965628],\n",
       "       [-1.13019572,  1.13387263, -1.68957608, -1.47815956],\n",
       "       [ 0.28856061, -0.54860424,  0.41122327,  0.5972046 ],\n",
       "       [ 0.28856061, -1.99072727,  0.22585862,  0.18213177],\n",
       "       [-0.61428433, -1.51001959, -0.20665889, -0.37129867],\n",
       "       [ 1.70731694, -0.3082504 ,  1.33804651,  0.5972046 ],\n",
       "       [ 0.67549415, -0.06789656,  0.65837613,  0.87391983],\n",
       "       [-1.13019572,  1.13387263, -1.68957608, -1.61651717],\n",
       "       [ 0.03060491,  0.89351879,  0.22585862,  0.32048938],\n",
       "       [ 0.67549415,  0.41281111,  0.59658792,  0.87391983],\n",
       "       [ 0.15958276, -0.06789656,  0.47301149,  0.5972046 ],\n",
       "       [ 2.22322833,  1.85493414,  1.58519938,  1.15063505],\n",
       "       [ 0.54651631, -0.3082504 ,  0.10228219, -0.09458345],\n",
       "       [-0.74326218,  0.89351879, -1.50421143, -1.61651717],\n",
       "       [-0.61428433, -1.51001959, -0.26844711, -0.50965628],\n",
       "       [-0.61428433,  1.13387263, -1.7513643 , -1.61651717],\n",
       "       [ 0.67549415, -0.06789656,  1.02910543,  1.15063505],\n",
       "       [-1.90406281, -1.75037343, -1.7513643 , -1.47815956],\n",
       "       [-0.22735078, -0.54860424,  0.59658792,  1.42735027],\n",
       "       [ 0.41753846, -1.26966576,  0.5347997 ,  0.73556221],\n",
       "       [-2.03304066,  0.41281111, -1.7513643 , -1.61651717],\n",
       "       [ 0.54651631, -0.78895808,  0.72016435,  0.73556221],\n",
       "       [ 0.54651631, -0.54860424,  0.905529  ,  1.15063505],\n",
       "       [-0.35632863,  1.85493414, -1.50421143, -1.47815956],\n",
       "       [-0.22735078, -1.02931192, -0.08308246, -0.23294106],\n",
       "       [ 1.0624277 , -0.54860424,  0.41122327,  0.04377416],\n",
       "       [ 0.41753846,  0.65316495,  0.34943505,  0.32048938],\n",
       "       [ 0.41753846, -0.54860424,  0.59658792,  0.18213177],\n",
       "       [ 2.22322833, -0.06789656,  1.21447008,  1.28899266],\n",
       "       [-1.77508496,  0.41281111, -1.68957608, -1.61651717],\n",
       "       [-0.22735078, -0.78895808, -0.02129424, -0.50965628],\n",
       "       [-0.35632863, -0.54860424,  0.22585862, -0.09458345],\n",
       "       [ 1.44936124, -0.06789656,  1.09089365,  1.01227744],\n",
       "       [ 2.22322833,  1.85493414,  1.58519938,  1.15063505],\n",
       "       [-0.09837294,  0.41281111,  0.41122327,  0.5972046 ],\n",
       "       [ 0.15958276, -0.54860424,  0.34943505, -0.23294106],\n",
       "       [ 2.48118403,  1.85493414,  1.39983473,  0.87391983],\n",
       "       [ 0.41753846,  0.65316495,  0.34943505,  0.32048938],\n",
       "       [ 0.67549415, -0.54860424,  0.28764684,  0.18213177],\n",
       "       [-1.38815142, -1.51001959, -0.51559997, -0.50965628],\n",
       "       [-1.13019572,  1.85493414, -1.56599965, -1.61651717],\n",
       "       [-0.48530648, -0.78895808,  0.04049397, -0.09458345],\n",
       "       [ 1.19140555,  0.17245727,  0.78195257,  1.01227744],\n",
       "       [ 0.15958276, -0.3082504 ,  0.34943505,  0.04377416],\n",
       "       [-1.25917357,  1.13387263, -1.56599965, -1.06308673],\n",
       "       [-0.22735078, -0.78895808,  0.59658792,  0.73556221],\n",
       "       [ 0.804472  , -0.06789656,  0.1640704 ,  0.04377416],\n",
       "       [-0.61428433, -1.02931192,  0.1640704 , -0.23294106],\n",
       "       [ 0.67549415, -0.06789656,  0.65837613,  0.87391983],\n",
       "       [-1.13019572,  0.89351879, -1.62778787, -1.61651717],\n",
       "       [-0.61428433, -1.75037343, -0.08308246, -0.09458345],\n",
       "       [ 0.41753846,  0.65316495,  1.15268186,  1.56570788],\n",
       "       [ 0.54651631,  0.41281111,  0.22585862,  0.18213177],\n",
       "       [-0.09837294,  0.41281111,  0.41122327,  0.5972046 ],\n",
       "       [ 1.19140555,  0.17245727,  0.47301149,  0.18213177],\n",
       "       [-0.22735078, -0.78895808,  0.59658792,  0.73556221],\n",
       "       [-1.77508496,  0.41281111, -1.68957608, -1.61651717]])"
      ]
     },
     "execution_count": 70,
     "metadata": {},
     "output_type": "execute_result"
    }
   ],
   "source": [
    "scaler.fit_transform(X_train)"
   ]
  },
  {
   "cell_type": "code",
   "execution_count": 71,
   "id": "d3c7b87a-b534-44cb-9c3d-a70ee1f067c3",
   "metadata": {
    "scrolled": true
   },
   "outputs": [
    {
     "data": {
      "text/plain": [
       "array([[ 4.25590584e-01, -2.40278551e-01,  8.73486243e-01,\n",
       "         1.12248890e+00],\n",
       "       [-1.35813466e+00, -1.43773232e+00, -6.75047178e-01,\n",
       "        -6.15290213e-01],\n",
       "       [-1.35813466e+00,  3.58448331e-01, -1.95427044e+00,\n",
       "        -1.87912957e+00],\n",
       "       [ 4.25590584e-01,  9.57175213e-01,  6.71503623e-01,\n",
       "         1.43844874e+00],\n",
       "       [ 7.82335633e-01, -1.13836887e+00,  1.00814132e+00,\n",
       "         6.48549143e-01],\n",
       "       [-1.68984497e-01,  3.58448331e-01,  5.36848543e-01,\n",
       "         6.48549143e-01],\n",
       "       [-5.00694805e-02,  5.90848897e-02,  1.32883303e-01,\n",
       "         1.74609385e-01],\n",
       "       [-5.00694805e-02, -5.39641992e-01,  5.36848543e-01,\n",
       "         3.32589304e-01],\n",
       "       [-1.00138961e+00, -5.39641992e-01, -2.71081938e-01,\n",
       "         1.66294652e-02],\n",
       "       [ 3.06675568e-01, -2.40278551e-01,  5.36848543e-01,\n",
       "         1.74609385e-01],\n",
       "       [ 6.88455357e-02,  3.58448331e-01,  2.00210843e-01,\n",
       "         1.66294652e-02],\n",
       "       [ 1.61474075e+00, -2.40278551e-01,  1.21012394e+00,\n",
       "         8.06529062e-01],\n",
       "       [-1.23921964e+00, -1.73709576e+00, -6.75047178e-01,\n",
       "        -6.15290213e-01],\n",
       "       [-4.06814529e-01, -8.39005434e-01, -5.40392098e-01,\n",
       "        -6.15290213e-01],\n",
       "       [ 1.02016567e+00,  9.57175213e-01,  9.40813783e-01,\n",
       "         1.43844874e+00],\n",
       "       [-1.95270974e+00,  3.58448331e-01, -2.02159798e+00,\n",
       "        -1.87912957e+00],\n",
       "       [ 6.88455357e-02,  5.90848897e-02,  2.67538383e-01,\n",
       "         1.66294652e-02],\n",
       "       [ 1.97148579e+00, -8.39005434e-01,  1.74874426e+00,\n",
       "         1.43844874e+00],\n",
       "       [ 3.06675568e-01, -1.73709576e+00,  6.55557627e-02,\n",
       "        -1.41350454e-01],\n",
       "       [-5.25729545e-01, -1.13836887e+00, -2.71081938e-01,\n",
       "        -4.57310293e-01],\n",
       "       [ 1.13908068e+00,  9.57175213e-01,  2.67538383e-01,\n",
       "         1.66294652e-02],\n",
       "       [ 7.82335633e-01,  3.58448331e-01,  4.69521003e-01,\n",
       "         4.90569224e-01],\n",
       "       [ 6.63420617e-01,  5.90848897e-02,  2.00210843e-01,\n",
       "        -1.41350454e-01],\n",
       "       [-2.87899513e-01, -5.39641992e-01,  5.36848543e-01,\n",
       "         8.06529062e-01],\n",
       "       [-4.06814529e-01,  3.58448331e-01, -6.90993174e-02,\n",
       "        -2.99330374e-01],\n",
       "       [-1.59596469e+00,  9.57175213e-01, -1.81961536e+00,\n",
       "        -1.87912957e+00],\n",
       "       [ 6.88455357e-02, -2.40278551e-01,  2.67538383e-01,\n",
       "        -2.99330374e-01],\n",
       "       [-7.63559578e-01,  3.58448331e-01,  1.32883303e-01,\n",
       "         1.74609385e-01],\n",
       "       [-1.23921964e+00,  1.85526554e+00, -2.02159798e+00,\n",
       "        -1.72114965e+00],\n",
       "       [ 1.97148579e+00, -2.40278551e-01,  1.61408918e+00,\n",
       "         9.64508982e-01],\n",
       "       [-5.00694805e-02, -2.03645920e+00, -2.03754398e-01,\n",
       "        -6.15290213e-01],\n",
       "       [ 1.87760552e-01, -2.40278551e-01,  3.34865923e-01,\n",
       "         6.48549143e-01],\n",
       "       [-1.35813466e+00, -1.13836887e+00,  1.32883303e-01,\n",
       "         4.90569224e-01],\n",
       "       [ 1.37691071e+00,  3.58448331e-01,  1.00814132e+00,\n",
       "         3.32589304e-01],\n",
       "       [-1.47704967e+00,  3.58448331e-01, -1.95427044e+00,\n",
       "        -1.72114965e+00],\n",
       "       [ 1.37691071e+00,  9.57175213e-01,  1.14279640e+00,\n",
       "         6.48549143e-01],\n",
       "       [-5.25729545e-01, -2.40278551e-01,  4.02193463e-01,\n",
       "         9.64508982e-01],\n",
       "       [ 7.82335633e-01, -1.13836887e+00,  1.00814132e+00,\n",
       "         6.48549143e-01],\n",
       "       [-2.87899513e-01, -5.39641992e-01, -1.36426857e-01,\n",
       "        -6.15290213e-01],\n",
       "       [ 1.61474075e+00, -2.40278551e-01,  1.21012394e+00,\n",
       "         8.06529062e-01],\n",
       "       [ 3.06675568e-01, -1.73709576e+00,  6.55557627e-02,\n",
       "        -1.41350454e-01],\n",
       "       [-4.06814529e-01, -2.40278551e-01, -1.36426857e-01,\n",
       "        -1.41350454e-01],\n",
       "       [-1.23921964e+00, -2.63518608e+00, -5.40392098e-01,\n",
       "        -6.15290213e-01],\n",
       "       [-1.35813466e+00,  6.57811772e-01, -1.88694290e+00,\n",
       "        -2.03710949e+00],\n",
       "       [-6.44644561e-01, -1.13836887e+00, -2.03754398e-01,\n",
       "        -1.41350454e-01],\n",
       "       [ 1.02016567e+00,  6.57811772e-01,  7.38831163e-01,\n",
       "         1.12248890e+00],\n",
       "       [-6.44644561e-01, -1.13836887e+00, -2.03754398e-01,\n",
       "        -1.41350454e-01],\n",
       "       [-4.06814529e-01, -2.40278551e-01,  1.32883303e-01,\n",
       "        -1.41350454e-01],\n",
       "       [ 4.25590584e-01, -5.39641992e-01,  6.71503623e-01,\n",
       "         8.06529062e-01],\n",
       "       [-1.68984497e-01,  3.58448331e-01, -6.90993174e-02,\n",
       "         1.74609385e-01],\n",
       "       [ 1.97148579e+00,  3.58448331e-01,  1.21012394e+00,\n",
       "         1.43844874e+00],\n",
       "       [ 6.63420617e-01,  5.90848897e-02,  2.00210843e-01,\n",
       "        -1.41350454e-01],\n",
       "       [ 1.37691071e+00,  9.57175213e-01,  1.14279640e+00,\n",
       "         6.48549143e-01],\n",
       "       [ 9.01250649e-01,  9.57175213e-01,  1.07546886e+00,\n",
       "         1.43844874e+00],\n",
       "       [-2.07162476e+00,  3.58448331e-01, -2.15625306e+00,\n",
       "        -2.03710949e+00],\n",
       "       [-1.71487971e+00,  2.15462898e+00, -2.22358060e+00,\n",
       "        -1.87912957e+00],\n",
       "       [ 1.87760552e-01,  5.90848897e-02, -1.77177737e-03,\n",
       "        -1.41350454e-01],\n",
       "       [ 7.82335633e-01,  6.57811772e-01,  8.73486243e-01,\n",
       "         1.59642866e+00],\n",
       "       [-2.87899513e-01, -2.40278551e-01,  5.36848543e-01,\n",
       "         1.59642866e+00],\n",
       "       [ 6.88455357e-02, -2.40278551e-01, -2.03754398e-01,\n",
       "        -1.41350454e-01],\n",
       "       [ 1.87760552e-01, -2.03645920e+00,  1.32883303e-01,\n",
       "         1.74609385e-01],\n",
       "       [-1.23921964e+00,  1.25653865e+00, -1.95427044e+00,\n",
       "        -1.87912957e+00],\n",
       "       [-1.68984497e-01,  3.58448331e-01, -6.90993174e-02,\n",
       "         1.74609385e-01],\n",
       "       [ 1.85257078e+00,  3.58448331e-01,  1.54676164e+00,\n",
       "         1.12248890e+00],\n",
       "       [-1.35813466e+00,  6.57811772e-01, -1.88694290e+00,\n",
       "        -2.03710949e+00],\n",
       "       [-5.25729545e-01,  3.58448331e-01,  1.32883303e-01,\n",
       "         1.74609385e-01],\n",
       "       [ 1.02016567e+00,  6.57811772e-01,  5.36848543e-01,\n",
       "         1.43844874e+00],\n",
       "       [ 7.82335633e-01,  3.58448331e-01,  4.69521003e-01,\n",
       "         4.90569224e-01],\n",
       "       [ 1.02016567e+00,  6.57811772e-01,  4.02193463e-01,\n",
       "         1.74609385e-01],\n",
       "       [-2.87899513e-01,  3.35208274e+00, -2.08892552e+00,\n",
       "        -1.87912957e+00],\n",
       "       [-5.00694805e-02,  3.58448331e-01,  3.34865923e-01,\n",
       "         6.48549143e-01],\n",
       "       [ 9.01250649e-01, -2.40278551e-01,  3.34865923e-01,\n",
       "         1.66294652e-02],\n",
       "       [ 3.06675568e-01, -1.13836887e+00,  4.02193463e-01,\n",
       "         1.74609385e-01],\n",
       "       [-5.00694805e-02,  1.55590210e+00,  1.32883303e-01,\n",
       "         3.32589304e-01],\n",
       "       [-1.47704967e+00,  1.55590210e+00, -1.81961536e+00,\n",
       "        -1.87912957e+00],\n",
       "       [-5.25729545e-01,  5.90848897e-02, -4.73064558e-01,\n",
       "        -1.41350454e-01]])"
      ]
     },
     "execution_count": 71,
     "metadata": {},
     "output_type": "execute_result"
    }
   ],
   "source": [
    "scaler.fit_transform(X_test)"
   ]
  },
  {
   "cell_type": "code",
   "execution_count": 72,
   "id": "b1bf9a7d-1775-484a-b6e7-180f23a2ad7b",
   "metadata": {},
   "outputs": [],
   "source": [
    "from sklearn.neighbors import KNeighborsClassifier"
   ]
  },
  {
   "cell_type": "code",
   "execution_count": 73,
   "id": "f8ca85be-c692-4c23-8109-3a7975bbd4c0",
   "metadata": {},
   "outputs": [
    {
     "data": {
      "text/html": [
       "<style>#sk-container-id-2 {color: black;}#sk-container-id-2 pre{padding: 0;}#sk-container-id-2 div.sk-toggleable {background-color: white;}#sk-container-id-2 label.sk-toggleable__label {cursor: pointer;display: block;width: 100%;margin-bottom: 0;padding: 0.3em;box-sizing: border-box;text-align: center;}#sk-container-id-2 label.sk-toggleable__label-arrow:before {content: \"▸\";float: left;margin-right: 0.25em;color: #696969;}#sk-container-id-2 label.sk-toggleable__label-arrow:hover:before {color: black;}#sk-container-id-2 div.sk-estimator:hover label.sk-toggleable__label-arrow:before {color: black;}#sk-container-id-2 div.sk-toggleable__content {max-height: 0;max-width: 0;overflow: hidden;text-align: left;background-color: #f0f8ff;}#sk-container-id-2 div.sk-toggleable__content pre {margin: 0.2em;color: black;border-radius: 0.25em;background-color: #f0f8ff;}#sk-container-id-2 input.sk-toggleable__control:checked~div.sk-toggleable__content {max-height: 200px;max-width: 100%;overflow: auto;}#sk-container-id-2 input.sk-toggleable__control:checked~label.sk-toggleable__label-arrow:before {content: \"▾\";}#sk-container-id-2 div.sk-estimator input.sk-toggleable__control:checked~label.sk-toggleable__label {background-color: #d4ebff;}#sk-container-id-2 div.sk-label input.sk-toggleable__control:checked~label.sk-toggleable__label {background-color: #d4ebff;}#sk-container-id-2 input.sk-hidden--visually {border: 0;clip: rect(1px 1px 1px 1px);clip: rect(1px, 1px, 1px, 1px);height: 1px;margin: -1px;overflow: hidden;padding: 0;position: absolute;width: 1px;}#sk-container-id-2 div.sk-estimator {font-family: monospace;background-color: #f0f8ff;border: 1px dotted black;border-radius: 0.25em;box-sizing: border-box;margin-bottom: 0.5em;}#sk-container-id-2 div.sk-estimator:hover {background-color: #d4ebff;}#sk-container-id-2 div.sk-parallel-item::after {content: \"\";width: 100%;border-bottom: 1px solid gray;flex-grow: 1;}#sk-container-id-2 div.sk-label:hover label.sk-toggleable__label {background-color: #d4ebff;}#sk-container-id-2 div.sk-serial::before {content: \"\";position: absolute;border-left: 1px solid gray;box-sizing: border-box;top: 0;bottom: 0;left: 50%;z-index: 0;}#sk-container-id-2 div.sk-serial {display: flex;flex-direction: column;align-items: center;background-color: white;padding-right: 0.2em;padding-left: 0.2em;position: relative;}#sk-container-id-2 div.sk-item {position: relative;z-index: 1;}#sk-container-id-2 div.sk-parallel {display: flex;align-items: stretch;justify-content: center;background-color: white;position: relative;}#sk-container-id-2 div.sk-item::before, #sk-container-id-2 div.sk-parallel-item::before {content: \"\";position: absolute;border-left: 1px solid gray;box-sizing: border-box;top: 0;bottom: 0;left: 50%;z-index: -1;}#sk-container-id-2 div.sk-parallel-item {display: flex;flex-direction: column;z-index: 1;position: relative;background-color: white;}#sk-container-id-2 div.sk-parallel-item:first-child::after {align-self: flex-end;width: 50%;}#sk-container-id-2 div.sk-parallel-item:last-child::after {align-self: flex-start;width: 50%;}#sk-container-id-2 div.sk-parallel-item:only-child::after {width: 0;}#sk-container-id-2 div.sk-dashed-wrapped {border: 1px dashed gray;margin: 0 0.4em 0.5em 0.4em;box-sizing: border-box;padding-bottom: 0.4em;background-color: white;}#sk-container-id-2 div.sk-label label {font-family: monospace;font-weight: bold;display: inline-block;line-height: 1.2em;}#sk-container-id-2 div.sk-label-container {text-align: center;}#sk-container-id-2 div.sk-container {/* jupyter's `normalize.less` sets `[hidden] { display: none; }` but bootstrap.min.css set `[hidden] { display: none !important; }` so we also need the `!important` here to be able to override the default hidden behavior on the sphinx rendered scikit-learn.org. See: https://github.com/scikit-learn/scikit-learn/issues/21755 */display: inline-block !important;position: relative;}#sk-container-id-2 div.sk-text-repr-fallback {display: none;}</style><div id=\"sk-container-id-2\" class=\"sk-top-container\"><div class=\"sk-text-repr-fallback\"><pre>KNeighborsClassifier()</pre><b>In a Jupyter environment, please rerun this cell to show the HTML representation or trust the notebook. <br />On GitHub, the HTML representation is unable to render, please try loading this page with nbviewer.org.</b></div><div class=\"sk-container\" hidden><div class=\"sk-item\"><div class=\"sk-estimator sk-toggleable\"><input class=\"sk-toggleable__control sk-hidden--visually\" id=\"sk-estimator-id-2\" type=\"checkbox\" checked><label for=\"sk-estimator-id-2\" class=\"sk-toggleable__label sk-toggleable__label-arrow\">KNeighborsClassifier</label><div class=\"sk-toggleable__content\"><pre>KNeighborsClassifier()</pre></div></div></div></div></div>"
      ],
      "text/plain": [
       "KNeighborsClassifier()"
      ]
     },
     "execution_count": 73,
     "metadata": {},
     "output_type": "execute_result"
    }
   ],
   "source": [
    "classifier = KNeighborsClassifier(n_neighbors=5)\n",
    "classifier.fit(X_train,y_train)"
   ]
  },
  {
   "cell_type": "code",
   "execution_count": 74,
   "id": "eb4ce0da-209e-482f-abc7-6d7174cc1675",
   "metadata": {},
   "outputs": [],
   "source": [
    "y_pred = classifier.predict(X_test)"
   ]
  },
  {
   "cell_type": "code",
   "execution_count": 75,
   "id": "0f9ff02c-a210-4eaf-9a4a-348c67192bf0",
   "metadata": {},
   "outputs": [],
   "source": [
    "from sklearn.metrics import classification_report,accuracy_score"
   ]
  },
  {
   "cell_type": "code",
   "execution_count": 76,
   "id": "48bec1a5-f332-46dd-bbe9-d8041950ba24",
   "metadata": {},
   "outputs": [
    {
     "name": "stdout",
     "output_type": "stream",
     "text": [
      "              precision    recall  f1-score   support\n",
      "\n",
      "           0       1.00      1.00      1.00        12\n",
      "           1       0.97      0.95      0.96        37\n",
      "           2       0.93      0.96      0.95        27\n",
      "\n",
      "    accuracy                           0.96        76\n",
      "   macro avg       0.97      0.97      0.97        76\n",
      "weighted avg       0.96      0.96      0.96        76\n",
      "\n"
     ]
    }
   ],
   "source": [
    "print(classification_report(y_test,y_pred))"
   ]
  },
  {
   "cell_type": "code",
   "execution_count": 78,
   "id": "b53c5580-c7c4-464f-9cbb-718b03ae51c0",
   "metadata": {},
   "outputs": [],
   "source": [
    "from sklearn.naive_bayes import GaussianNB"
   ]
  },
  {
   "cell_type": "code",
   "execution_count": 79,
   "id": "4d811e19-6cf5-4da2-b27c-4d114933794f",
   "metadata": {},
   "outputs": [],
   "source": [
    "clf = GaussianNB()"
   ]
  },
  {
   "cell_type": "code",
   "execution_count": 80,
   "id": "f6e43b2f-f4c0-4f62-8531-9c4e6c588b58",
   "metadata": {},
   "outputs": [
    {
     "data": {
      "text/html": [
       "<style>#sk-container-id-3 {color: black;}#sk-container-id-3 pre{padding: 0;}#sk-container-id-3 div.sk-toggleable {background-color: white;}#sk-container-id-3 label.sk-toggleable__label {cursor: pointer;display: block;width: 100%;margin-bottom: 0;padding: 0.3em;box-sizing: border-box;text-align: center;}#sk-container-id-3 label.sk-toggleable__label-arrow:before {content: \"▸\";float: left;margin-right: 0.25em;color: #696969;}#sk-container-id-3 label.sk-toggleable__label-arrow:hover:before {color: black;}#sk-container-id-3 div.sk-estimator:hover label.sk-toggleable__label-arrow:before {color: black;}#sk-container-id-3 div.sk-toggleable__content {max-height: 0;max-width: 0;overflow: hidden;text-align: left;background-color: #f0f8ff;}#sk-container-id-3 div.sk-toggleable__content pre {margin: 0.2em;color: black;border-radius: 0.25em;background-color: #f0f8ff;}#sk-container-id-3 input.sk-toggleable__control:checked~div.sk-toggleable__content {max-height: 200px;max-width: 100%;overflow: auto;}#sk-container-id-3 input.sk-toggleable__control:checked~label.sk-toggleable__label-arrow:before {content: \"▾\";}#sk-container-id-3 div.sk-estimator input.sk-toggleable__control:checked~label.sk-toggleable__label {background-color: #d4ebff;}#sk-container-id-3 div.sk-label input.sk-toggleable__control:checked~label.sk-toggleable__label {background-color: #d4ebff;}#sk-container-id-3 input.sk-hidden--visually {border: 0;clip: rect(1px 1px 1px 1px);clip: rect(1px, 1px, 1px, 1px);height: 1px;margin: -1px;overflow: hidden;padding: 0;position: absolute;width: 1px;}#sk-container-id-3 div.sk-estimator {font-family: monospace;background-color: #f0f8ff;border: 1px dotted black;border-radius: 0.25em;box-sizing: border-box;margin-bottom: 0.5em;}#sk-container-id-3 div.sk-estimator:hover {background-color: #d4ebff;}#sk-container-id-3 div.sk-parallel-item::after {content: \"\";width: 100%;border-bottom: 1px solid gray;flex-grow: 1;}#sk-container-id-3 div.sk-label:hover label.sk-toggleable__label {background-color: #d4ebff;}#sk-container-id-3 div.sk-serial::before {content: \"\";position: absolute;border-left: 1px solid gray;box-sizing: border-box;top: 0;bottom: 0;left: 50%;z-index: 0;}#sk-container-id-3 div.sk-serial {display: flex;flex-direction: column;align-items: center;background-color: white;padding-right: 0.2em;padding-left: 0.2em;position: relative;}#sk-container-id-3 div.sk-item {position: relative;z-index: 1;}#sk-container-id-3 div.sk-parallel {display: flex;align-items: stretch;justify-content: center;background-color: white;position: relative;}#sk-container-id-3 div.sk-item::before, #sk-container-id-3 div.sk-parallel-item::before {content: \"\";position: absolute;border-left: 1px solid gray;box-sizing: border-box;top: 0;bottom: 0;left: 50%;z-index: -1;}#sk-container-id-3 div.sk-parallel-item {display: flex;flex-direction: column;z-index: 1;position: relative;background-color: white;}#sk-container-id-3 div.sk-parallel-item:first-child::after {align-self: flex-end;width: 50%;}#sk-container-id-3 div.sk-parallel-item:last-child::after {align-self: flex-start;width: 50%;}#sk-container-id-3 div.sk-parallel-item:only-child::after {width: 0;}#sk-container-id-3 div.sk-dashed-wrapped {border: 1px dashed gray;margin: 0 0.4em 0.5em 0.4em;box-sizing: border-box;padding-bottom: 0.4em;background-color: white;}#sk-container-id-3 div.sk-label label {font-family: monospace;font-weight: bold;display: inline-block;line-height: 1.2em;}#sk-container-id-3 div.sk-label-container {text-align: center;}#sk-container-id-3 div.sk-container {/* jupyter's `normalize.less` sets `[hidden] { display: none; }` but bootstrap.min.css set `[hidden] { display: none !important; }` so we also need the `!important` here to be able to override the default hidden behavior on the sphinx rendered scikit-learn.org. See: https://github.com/scikit-learn/scikit-learn/issues/21755 */display: inline-block !important;position: relative;}#sk-container-id-3 div.sk-text-repr-fallback {display: none;}</style><div id=\"sk-container-id-3\" class=\"sk-top-container\"><div class=\"sk-text-repr-fallback\"><pre>GaussianNB()</pre><b>In a Jupyter environment, please rerun this cell to show the HTML representation or trust the notebook. <br />On GitHub, the HTML representation is unable to render, please try loading this page with nbviewer.org.</b></div><div class=\"sk-container\" hidden><div class=\"sk-item\"><div class=\"sk-estimator sk-toggleable\"><input class=\"sk-toggleable__control sk-hidden--visually\" id=\"sk-estimator-id-3\" type=\"checkbox\" checked><label for=\"sk-estimator-id-3\" class=\"sk-toggleable__label sk-toggleable__label-arrow\">GaussianNB</label><div class=\"sk-toggleable__content\"><pre>GaussianNB()</pre></div></div></div></div></div>"
      ],
      "text/plain": [
       "GaussianNB()"
      ]
     },
     "execution_count": 80,
     "metadata": {},
     "output_type": "execute_result"
    }
   ],
   "source": [
    "clf.fit(X_train,y_train)"
   ]
  },
  {
   "cell_type": "code",
   "execution_count": 91,
   "id": "e6fcf9f6-7a5b-4c6f-bf94-b0b4e39ff8aa",
   "metadata": {},
   "outputs": [],
   "source": [
    "y_pred2 = clf.predict(X_test)"
   ]
  },
  {
   "cell_type": "code",
   "execution_count": 93,
   "id": "25912e3d-5d99-4bfe-a7de-769008bd5a6c",
   "metadata": {},
   "outputs": [
    {
     "name": "stdout",
     "output_type": "stream",
     "text": [
      "              precision    recall  f1-score   support\n",
      "\n",
      "           0       1.00      1.00      1.00        12\n",
      "           1       0.94      0.92      0.93        37\n",
      "           2       0.89      0.93      0.91        27\n",
      "\n",
      "    accuracy                           0.93        76\n",
      "   macro avg       0.95      0.95      0.95        76\n",
      "weighted avg       0.93      0.93      0.93        76\n",
      "\n"
     ]
    }
   ],
   "source": [
    "print (classification_report(y_test,y_pred2))"
   ]
  },
  {
   "cell_type": "code",
   "execution_count": 101,
   "id": "eb26a5e0-f1b6-46d9-9a91-7efeb06be75d",
   "metadata": {},
   "outputs": [],
   "source": [
    "from sklearn.linear_model import LogisticRegression"
   ]
  },
  {
   "cell_type": "code",
   "execution_count": 102,
   "id": "a44c60c3-0059-4083-9759-0454ea676193",
   "metadata": {},
   "outputs": [],
   "source": [
    "model= LogisticRegression()"
   ]
  },
  {
   "cell_type": "code",
   "execution_count": 103,
   "id": "7dc22f96-1b71-4193-a884-8ce13cecdbb8",
   "metadata": {},
   "outputs": [
    {
     "data": {
      "text/html": [
       "<style>#sk-container-id-6 {color: black;}#sk-container-id-6 pre{padding: 0;}#sk-container-id-6 div.sk-toggleable {background-color: white;}#sk-container-id-6 label.sk-toggleable__label {cursor: pointer;display: block;width: 100%;margin-bottom: 0;padding: 0.3em;box-sizing: border-box;text-align: center;}#sk-container-id-6 label.sk-toggleable__label-arrow:before {content: \"▸\";float: left;margin-right: 0.25em;color: #696969;}#sk-container-id-6 label.sk-toggleable__label-arrow:hover:before {color: black;}#sk-container-id-6 div.sk-estimator:hover label.sk-toggleable__label-arrow:before {color: black;}#sk-container-id-6 div.sk-toggleable__content {max-height: 0;max-width: 0;overflow: hidden;text-align: left;background-color: #f0f8ff;}#sk-container-id-6 div.sk-toggleable__content pre {margin: 0.2em;color: black;border-radius: 0.25em;background-color: #f0f8ff;}#sk-container-id-6 input.sk-toggleable__control:checked~div.sk-toggleable__content {max-height: 200px;max-width: 100%;overflow: auto;}#sk-container-id-6 input.sk-toggleable__control:checked~label.sk-toggleable__label-arrow:before {content: \"▾\";}#sk-container-id-6 div.sk-estimator input.sk-toggleable__control:checked~label.sk-toggleable__label {background-color: #d4ebff;}#sk-container-id-6 div.sk-label input.sk-toggleable__control:checked~label.sk-toggleable__label {background-color: #d4ebff;}#sk-container-id-6 input.sk-hidden--visually {border: 0;clip: rect(1px 1px 1px 1px);clip: rect(1px, 1px, 1px, 1px);height: 1px;margin: -1px;overflow: hidden;padding: 0;position: absolute;width: 1px;}#sk-container-id-6 div.sk-estimator {font-family: monospace;background-color: #f0f8ff;border: 1px dotted black;border-radius: 0.25em;box-sizing: border-box;margin-bottom: 0.5em;}#sk-container-id-6 div.sk-estimator:hover {background-color: #d4ebff;}#sk-container-id-6 div.sk-parallel-item::after {content: \"\";width: 100%;border-bottom: 1px solid gray;flex-grow: 1;}#sk-container-id-6 div.sk-label:hover label.sk-toggleable__label {background-color: #d4ebff;}#sk-container-id-6 div.sk-serial::before {content: \"\";position: absolute;border-left: 1px solid gray;box-sizing: border-box;top: 0;bottom: 0;left: 50%;z-index: 0;}#sk-container-id-6 div.sk-serial {display: flex;flex-direction: column;align-items: center;background-color: white;padding-right: 0.2em;padding-left: 0.2em;position: relative;}#sk-container-id-6 div.sk-item {position: relative;z-index: 1;}#sk-container-id-6 div.sk-parallel {display: flex;align-items: stretch;justify-content: center;background-color: white;position: relative;}#sk-container-id-6 div.sk-item::before, #sk-container-id-6 div.sk-parallel-item::before {content: \"\";position: absolute;border-left: 1px solid gray;box-sizing: border-box;top: 0;bottom: 0;left: 50%;z-index: -1;}#sk-container-id-6 div.sk-parallel-item {display: flex;flex-direction: column;z-index: 1;position: relative;background-color: white;}#sk-container-id-6 div.sk-parallel-item:first-child::after {align-self: flex-end;width: 50%;}#sk-container-id-6 div.sk-parallel-item:last-child::after {align-self: flex-start;width: 50%;}#sk-container-id-6 div.sk-parallel-item:only-child::after {width: 0;}#sk-container-id-6 div.sk-dashed-wrapped {border: 1px dashed gray;margin: 0 0.4em 0.5em 0.4em;box-sizing: border-box;padding-bottom: 0.4em;background-color: white;}#sk-container-id-6 div.sk-label label {font-family: monospace;font-weight: bold;display: inline-block;line-height: 1.2em;}#sk-container-id-6 div.sk-label-container {text-align: center;}#sk-container-id-6 div.sk-container {/* jupyter's `normalize.less` sets `[hidden] { display: none; }` but bootstrap.min.css set `[hidden] { display: none !important; }` so we also need the `!important` here to be able to override the default hidden behavior on the sphinx rendered scikit-learn.org. See: https://github.com/scikit-learn/scikit-learn/issues/21755 */display: inline-block !important;position: relative;}#sk-container-id-6 div.sk-text-repr-fallback {display: none;}</style><div id=\"sk-container-id-6\" class=\"sk-top-container\"><div class=\"sk-text-repr-fallback\"><pre>LogisticRegression()</pre><b>In a Jupyter environment, please rerun this cell to show the HTML representation or trust the notebook. <br />On GitHub, the HTML representation is unable to render, please try loading this page with nbviewer.org.</b></div><div class=\"sk-container\" hidden><div class=\"sk-item\"><div class=\"sk-estimator sk-toggleable\"><input class=\"sk-toggleable__control sk-hidden--visually\" id=\"sk-estimator-id-6\" type=\"checkbox\" checked><label for=\"sk-estimator-id-6\" class=\"sk-toggleable__label sk-toggleable__label-arrow\">LogisticRegression</label><div class=\"sk-toggleable__content\"><pre>LogisticRegression()</pre></div></div></div></div></div>"
      ],
      "text/plain": [
       "LogisticRegression()"
      ]
     },
     "execution_count": 103,
     "metadata": {},
     "output_type": "execute_result"
    }
   ],
   "source": [
    "model.fit(X_train,y_train)"
   ]
  },
  {
   "cell_type": "code",
   "execution_count": 104,
   "id": "ad393918-589e-45d7-b45a-14d951415ab2",
   "metadata": {},
   "outputs": [],
   "source": [
    "y_pred3 = model.predict(X_test)"
   ]
  },
  {
   "cell_type": "code",
   "execution_count": 107,
   "id": "53b6bd7f-86e8-4373-acff-54bbdb47d1fd",
   "metadata": {},
   "outputs": [
    {
     "name": "stdout",
     "output_type": "stream",
     "text": [
      "              precision    recall  f1-score   support\n",
      "\n",
      "           0       1.00      1.00      1.00        12\n",
      "           1       1.00      0.92      0.96        37\n",
      "           2       0.90      1.00      0.95        27\n",
      "\n",
      "    accuracy                           0.96        76\n",
      "   macro avg       0.97      0.97      0.97        76\n",
      "weighted avg       0.96      0.96      0.96        76\n",
      "\n"
     ]
    }
   ],
   "source": [
    "print(classification_report(y_test,y_pred3))"
   ]
  }
 ],
 "metadata": {
  "kernelspec": {
   "display_name": "Python 3 (ipykernel)",
   "language": "python",
   "name": "python3"
  },
  "language_info": {
   "codemirror_mode": {
    "name": "ipython",
    "version": 3
   },
   "file_extension": ".py",
   "mimetype": "text/x-python",
   "name": "python",
   "nbconvert_exporter": "python",
   "pygments_lexer": "ipython3",
   "version": "3.11.4"
  }
 },
 "nbformat": 4,
 "nbformat_minor": 5
}
